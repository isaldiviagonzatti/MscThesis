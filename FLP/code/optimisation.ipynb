{
 "cells": [
  {
   "cell_type": "code",
   "execution_count": 1,
   "metadata": {},
   "outputs": [],
   "source": [
    "import gurobipy as gp\n",
    "from gurobipy import GRB\n",
    "import pandas as pd\n",
    "import numpy as np\n",
    "import os"
   ]
  },
  {
   "cell_type": "code",
   "execution_count": 2,
   "metadata": {},
   "outputs": [
    {
     "data": {
      "text/plain": [
       "'c:\\\\Users\\\\isaldiviagonzatti\\\\Downloads\\\\gitFiles\\\\MScThesisCode\\\\FLP'"
      ]
     },
     "execution_count": 2,
     "metadata": {},
     "output_type": "execute_result"
    }
   ],
   "source": [
    "# define paths\n",
    "data_path = 'data'\n",
    "output_path = 'output'\n",
    "\n",
    "# set parent folder as working directory\n",
    "os.chdir('..')\n",
    "os.getcwd()"
   ]
  },
  {
   "cell_type": "code",
   "execution_count": 3,
   "metadata": {},
   "outputs": [],
   "source": [
    "# load data \n",
    "optiData = pd.read_csv(os.path.join(output_path, 'optiData.csv'), index_col=0)"
   ]
  },
  {
   "cell_type": "code",
   "execution_count": 4,
   "metadata": {},
   "outputs": [],
   "source": [
    "# define supply of PAL grouped by orig nodes. \n",
    "# Tonnes are the sum of all farms corresponding to node (note that mean is applied because of matrix form)\n",
    "supplyPAL = pd.DataFrame(optiData.groupby('origs', as_index=False).agg(\n",
    "                                            leavesTonne=('leavesTonne','mean'),\n",
    "                                        )\n",
    "                     )"
   ]
  },
  {
   "cell_type": "code",
   "execution_count": 5,
   "metadata": {},
   "outputs": [],
   "source": [
    "# define number of PAL origs and facilities dests \n",
    "pal = list(set(optiData.origs))  # PAL points\n",
    "fac = list(set(optiData.dests))  # candidate plant locations"
   ]
  },
  {
   "cell_type": "code",
   "execution_count": 6,
   "metadata": {},
   "outputs": [
    {
     "data": {
      "text/html": [
       "<div>\n",
       "<style scoped>\n",
       "    .dataframe tbody tr th:only-of-type {\n",
       "        vertical-align: middle;\n",
       "    }\n",
       "\n",
       "    .dataframe tbody tr th {\n",
       "        vertical-align: top;\n",
       "    }\n",
       "\n",
       "    .dataframe thead th {\n",
       "        text-align: right;\n",
       "    }\n",
       "</style>\n",
       "<table border=\"1\" class=\"dataframe\">\n",
       "  <thead>\n",
       "    <tr style=\"text-align: right;\">\n",
       "      <th></th>\n",
       "      <th>origs</th>\n",
       "      <th>dests</th>\n",
       "      <th>path_length</th>\n",
       "      <th>osmidOrig</th>\n",
       "      <th>areaHa</th>\n",
       "      <th>leavesTonne</th>\n",
       "      <th>distance</th>\n",
       "      <th>totalDist</th>\n",
       "    </tr>\n",
       "  </thead>\n",
       "  <tbody>\n",
       "    <tr>\n",
       "      <th>0</th>\n",
       "      <td>3610149725</td>\n",
       "      <td>2656380182</td>\n",
       "      <td>157664.026</td>\n",
       "      <td>3610149725</td>\n",
       "      <td>15.49063</td>\n",
       "      <td>1270.231645</td>\n",
       "      <td>319.129599</td>\n",
       "      <td>157.983156</td>\n",
       "    </tr>\n",
       "    <tr>\n",
       "      <th>1</th>\n",
       "      <td>3610149725</td>\n",
       "      <td>5294901777</td>\n",
       "      <td>83956.035</td>\n",
       "      <td>3610149725</td>\n",
       "      <td>15.49063</td>\n",
       "      <td>1270.231645</td>\n",
       "      <td>319.129599</td>\n",
       "      <td>84.275165</td>\n",
       "    </tr>\n",
       "    <tr>\n",
       "      <th>2</th>\n",
       "      <td>3610149725</td>\n",
       "      <td>1321571077</td>\n",
       "      <td>201954.500</td>\n",
       "      <td>3610149725</td>\n",
       "      <td>15.49063</td>\n",
       "      <td>1270.231645</td>\n",
       "      <td>319.129599</td>\n",
       "      <td>202.273630</td>\n",
       "    </tr>\n",
       "    <tr>\n",
       "      <th>3</th>\n",
       "      <td>3610149725</td>\n",
       "      <td>3677820110</td>\n",
       "      <td>75493.804</td>\n",
       "      <td>3610149725</td>\n",
       "      <td>15.49063</td>\n",
       "      <td>1270.231645</td>\n",
       "      <td>319.129599</td>\n",
       "      <td>75.812934</td>\n",
       "    </tr>\n",
       "    <tr>\n",
       "      <th>4</th>\n",
       "      <td>3610149725</td>\n",
       "      <td>3510580697</td>\n",
       "      <td>21814.095</td>\n",
       "      <td>3610149725</td>\n",
       "      <td>15.49063</td>\n",
       "      <td>1270.231645</td>\n",
       "      <td>319.129599</td>\n",
       "      <td>22.133225</td>\n",
       "    </tr>\n",
       "  </tbody>\n",
       "</table>\n",
       "</div>"
      ],
      "text/plain": [
       "        origs       dests  path_length   osmidOrig    areaHa  leavesTonne  \\\n",
       "0  3610149725  2656380182   157664.026  3610149725  15.49063  1270.231645   \n",
       "1  3610149725  5294901777    83956.035  3610149725  15.49063  1270.231645   \n",
       "2  3610149725  1321571077   201954.500  3610149725  15.49063  1270.231645   \n",
       "3  3610149725  3677820110    75493.804  3610149725  15.49063  1270.231645   \n",
       "4  3610149725  3510580697    21814.095  3610149725  15.49063  1270.231645   \n",
       "\n",
       "     distance   totalDist  \n",
       "0  319.129599  157.983156  \n",
       "1  319.129599   84.275165  \n",
       "2  319.129599  202.273630  \n",
       "3  319.129599   75.812934  \n",
       "4  319.129599   22.133225  "
      ]
     },
     "execution_count": 6,
     "metadata": {},
     "output_type": "execute_result"
    }
   ],
   "source": [
    "optiData.head()"
   ]
  },
  {
   "cell_type": "code",
   "execution_count": 7,
   "metadata": {},
   "outputs": [],
   "source": [
    "# scenarios transport costs (tkm)\n",
    "transCost1 = 0.20\n",
    "transCost2 = 0.275\n",
    "transCost3 = 0.4"
   ]
  },
  {
   "cell_type": "code",
   "execution_count": 8,
   "metadata": {},
   "outputs": [],
   "source": [
    "# calculate transport cost: for each tonne transported, cost will be\n",
    "# cost of transporting that tonne in a specific trip\n",
    "\n",
    "optiData['costTrans'] = optiData.totalDist * transCost2 # * 1 tonne"
   ]
  },
  {
   "cell_type": "code",
   "execution_count": 9,
   "metadata": {},
   "outputs": [],
   "source": [
    "# transport costs converted into dict of the form (dests, origs): cost for tonne per trip\n",
    "costTrans = optiData.groupby(['dests','origs']).apply(lambda x: np.float64(x['costTrans'].values).round(2)).to_dict()"
   ]
  },
  {
   "cell_type": "code",
   "execution_count": 10,
   "metadata": {},
   "outputs": [],
   "source": [
    "#scenarios X MM / 15 years + annual operating costs 350 M\n",
    "costFac1 = 2_000_000/15 + 350_000\n",
    "costFac2 = 3_000_000/15 + 350_000\n",
    "costFac3 = 4_000_000/15 + 350_000"
   ]
  },
  {
   "cell_type": "code",
   "execution_count": 11,
   "metadata": {},
   "outputs": [],
   "source": [
    "# The (annual) facility costs \n",
    "fac_cost = { i : costFac2 for i in fac }\n",
    "\n",
    "# capacity of 170,428 tonnes/year\n",
    "capacity = { i : 170428 for i in fac }\n",
    "\n",
    "# supply of PAL from each (aggregated) farm\n",
    "supply = dict(zip(supplyPAL.origs, np.int64(supplyPAL.leavesTonne)))"
   ]
  },
  {
   "cell_type": "code",
   "execution_count": 12,
   "metadata": {},
   "outputs": [
    {
     "name": "stdout",
     "output_type": "stream",
     "text": [
      "Example data (not related to each other): \n",
      " PAL node: [5060446209] \n",
      " Facility node: [4950368263] \n",
      " Transport costs per tonne for specific trip: ((183803630, 185483242), 23.29) \n",
      " Facility costs: (4950368263, 550000.0) \n",
      " Facility capacity: (4950368263, 170428) \n",
      " Supply of PAL per node: (185483242, 1531)\n"
     ]
    }
   ],
   "source": [
    "print('Example data (not related to each other):', \n",
    "      '\\n PAL node:', pal[:1], \n",
    "      '\\n Facility node:', fac[:1], \n",
    "      '\\n Transport costs per tonne for specific trip:', next(iter( costTrans.items() )) ,\n",
    "      '\\n Facility costs:', next(iter( fac_cost.items() )) , \n",
    "      '\\n Facility capacity:', next(iter( capacity.items() )) , \n",
    "      '\\n Supply of PAL per node:', next(iter( supply.items() ))  \n",
    "      ) "
   ]
  },
  {
   "cell_type": "code",
   "execution_count": 13,
   "metadata": {},
   "outputs": [],
   "source": [
    "# create model \n",
    "m = gp.Model()\n",
    "\n",
    "# create variables, x[i,j] = number of units that PAL node j sends to facility i\n",
    "x = m.addVars( fac, pal, vtype=GRB.INTEGER )\n",
    "\n",
    "# create variables, y[i] = 1 if locate a facility at site i\n",
    "y = m.addVars( fac, vtype=GRB.BINARY )"
   ]
  },
  {
   "cell_type": "code",
   "execution_count": 14,
   "metadata": {},
   "outputs": [],
   "source": [
    "# Objective: minimize transportation cost (annual) + facility cost (annual)\n",
    "m.setObjective( gp.quicksum( costTrans[i,j] * x[i,j] for i in fac for j in pal ) + gp.quicksum( fac_cost[i] * y[i] for i in fac) , GRB.MINIMIZE )"
   ]
  },
  {
   "cell_type": "code",
   "execution_count": 15,
   "metadata": {},
   "outputs": [],
   "source": [
    "# Constraints: each palPoint point should send its full supply\n",
    "m.addConstrs( gp.quicksum( x[i,j] for i in fac ) == supply[j] for j in pal )\n",
    "\n",
    "# Constraints: if no factory is built at site i, it cannot receive any PAL\n",
    "m.addConstrs( gp.quicksum( x[i,j] for j in pal ) <= capacity[i] * y[i] for i in fac )\n",
    "\n",
    "# Optional strengthening constraints\n",
    "m.addConstrs( x[i,j] <= supply[j] * y[i] for i in fac for j in pal )\n",
    "\n",
    "m.update()"
   ]
  },
  {
   "cell_type": "code",
   "execution_count": 16,
   "metadata": {},
   "outputs": [
    {
     "name": "stdout",
     "output_type": "stream",
     "text": [
      "Set parameter Method to value 3\n",
      "Set parameter MIPGap to value 0.02\n",
      "Set parameter TimeLimit to value 300\n",
      "Gurobi Optimizer version 10.0.1 build v10.0.1rc0 (win64)\n",
      "\n",
      "CPU model: AMD Ryzen 7 5700U with Radeon Graphics, instruction set [SSE2|AVX|AVX2]\n",
      "Thread count: 8 physical cores, 16 logical processors, using up to 16 threads\n",
      "\n",
      "Optimize a model with 560357 rows, 559205 columns and 2235365 nonzeros\n",
      "Model fingerprint: 0xcb03057e\n",
      "Variable types: 0 continuous, 559205 integer (485 binary)\n",
      "Coefficient statistics:\n",
      "  Matrix range     [1e+00, 2e+05]\n",
      "  Objective range  [6e-02, 6e+05]\n",
      "  Bounds range     [1e+00, 1e+00]\n",
      "  RHS range        [4e+01, 6e+04]\n",
      "Found heuristic solution: objective 3.767337e+08\n",
      "Presolve time: 3.08s\n",
      "Presolved: 560357 rows, 559205 columns, 2235365 nonzeros\n",
      "Variable types: 0 continuous, 559205 integer (485 binary)\n",
      "Found heuristic solution: objective 3.767201e+08\n",
      "Concurrent LP optimizer: primal simplex, dual simplex, and barrier\n",
      "Showing barrier log only...\n",
      "\n",
      "Root barrier log...\n",
      "\n",
      "Ordering time: 0.61s\n",
      "\n",
      "Barrier statistics:\n",
      " Dense cols : 485\n",
      " AA' NZ     : 2.235e+06\n",
      " Factor NZ  : 4.296e+06 (roughly 500 MB of memory)\n",
      " Factor Ops : 2.620e+09 (less than 1 second per iteration)\n",
      " Threads    : 6\n",
      "\n",
      "                  Objective                Residual\n",
      "Iter       Primal          Dual         Primal    Dual     Compl     Time\n",
      "   0   6.61360151e+10 -1.80267834e+08  2.51e+05 0.00e+00  3.17e+05     8s\n",
      "   1   1.76339163e+10 -5.96970461e+08  7.00e+04 1.59e+02  7.60e+04     8s\n",
      "   2   1.19849072e+10 -4.06836857e+10  4.64e+04 4.42e-09  7.51e+04     9s\n",
      "   3   1.89070041e+09 -2.86152560e+10  6.85e+03 2.82e-09  2.39e+04    10s\n",
      "   4   4.79587723e+08 -7.31565817e+09  9.49e+02 6.62e-10  5.22e+03    11s\n",
      "   5   2.76103101e+08 -2.74018590e+09  7.68e+01 3.06e-10  1.83e+03    11s\n",
      "   6   2.48915935e+08 -1.49443220e+09  2.07e+01 1.75e-10  1.05e+03    12s\n",
      "   7   2.37084982e+08 -6.99745985e+08  1.58e+01 8.28e-11  5.63e+02    12s\n",
      "   8   2.22335629e+08 -3.78844832e+08  1.31e+01 5.05e-11  3.61e+02    13s\n",
      "   9   1.98875004e+08 -2.60121237e+08  9.65e+00 3.50e-11  2.75e+02    14s\n",
      "  10   1.81011200e+08 -2.11848522e+08  8.18e+00 3.09e-11  2.35e+02    14s\n",
      "  11   1.62313304e+08 -1.45827296e+08  6.83e+00 2.36e-11  1.84e+02    15s\n",
      "  12   1.40152117e+08 -8.92311451e+07  5.38e+00 1.96e-11  1.37e+02    15s\n",
      "  13   1.21675589e+08 -6.24065092e+07  4.37e+00 1.47e-11  1.10e+02    16s\n",
      "  14   1.07775475e+08 -3.99298021e+07  3.65e+00 9.09e-12  8.82e+01    17s\n",
      "  15   9.91573657e+07 -2.86677858e+07  3.21e+00 1.00e-11  7.63e+01    18s\n",
      "  16   9.16735344e+07 -1.95113690e+07  2.86e+00 7.56e-12  6.63e+01    19s\n",
      "  17   8.13047476e+07 -1.48032379e+07  2.36e+00 9.04e-12  5.73e+01    20s\n",
      "  18   7.61126778e+07 -8.48456683e+06  2.13e+00 6.42e-12  5.04e+01    21s\n",
      "  19   7.35651758e+07 -2.04266577e+06  2.01e+00 5.83e-12  4.51e+01    22s\n",
      "  20   6.85990815e+07  2.30132442e+06  1.79e+00 4.26e-12  3.95e+01    23s\n",
      "  21   6.57188402e+07  5.92057641e+06  1.66e+00 5.77e-12  3.56e+01    24s\n",
      "  22   6.13222764e+07  7.40173054e+06  1.46e+00 4.68e-12  3.21e+01    25s\n",
      "  23   5.93480249e+07  1.05422577e+07  1.37e+00 4.69e-12  2.91e+01    26s\n",
      "  24   5.76228778e+07  1.27548490e+07  1.29e+00 6.26e-05  2.67e+01    27s\n",
      "  25   5.63785953e+07  1.51145912e+07  1.23e+00 2.13e-05  2.46e+01    28s\n",
      "  26   5.51243551e+07  1.67571664e+07  1.17e+00 3.59e-12  2.29e+01    29s\n",
      "  27   5.10942705e+07  1.75015496e+07  9.91e-01 3.51e-12  2.00e+01    30s\n",
      "  28   5.00770230e+07  1.84295258e+07  9.47e-01 6.30e-12  1.88e+01    31s\n",
      "  29   4.83529977e+07  1.93359201e+07  8.69e-01 3.63e-12  1.73e+01    32s\n",
      "\n",
      "Barrier performed 29 iterations in 31.87 seconds (13.65 work units)\n",
      "Barrier solve interrupted - model solved by another algorithm\n",
      "\n",
      "\n",
      "Solved with primal simplex\n",
      "\n",
      "Root relaxation: objective 2.897910e+07, 25191 iterations, 28.14 seconds (27.34 work units)\n",
      "\n",
      "    Nodes    |    Current Node    |     Objective Bounds      |     Work\n",
      " Expl Unexpl |  Obj  Depth IntInf | Incumbent    BestBd   Gap | It/Node Time\n",
      "\n",
      "     0     0 2.8979e+07    0 1647 3.7672e+08 2.8979e+07  92.3%     -   33s\n",
      "H    0     0                    3.156640e+07 2.8979e+07  8.20%     -   34s\n",
      "H    0     0                    3.023400e+07 2.8979e+07  4.15%     -   56s\n",
      "H    0     0                    3.023307e+07 2.8979e+07  4.15%     -   60s\n",
      "     0     0 2.8985e+07    0 1789 3.0233e+07 2.8985e+07  4.13%     -   92s\n",
      "H    0     0                    2.973807e+07 2.8985e+07  2.53%     -  145s\n",
      "     0     0 2.8986e+07    0 1789 2.9738e+07 2.8986e+07  2.53%     -  146s\n",
      "     0     0 2.9006e+07    0 2007 2.9738e+07 2.9006e+07  2.46%     -  173s\n",
      "H    0     0                    2.973096e+07 2.9006e+07  2.44%     -  176s\n",
      "     0     0 2.9006e+07    0 2011 2.9731e+07 2.9006e+07  2.44%     -  176s\n",
      "     0     0 2.9017e+07    0 2045 2.9731e+07 2.9017e+07  2.40%     -  188s\n",
      "     0     0 2.9017e+07    0 2048 2.9731e+07 2.9017e+07  2.40%     -  193s\n",
      "     0     0 2.9017e+07    0 2041 2.9731e+07 2.9017e+07  2.40%     -  194s\n",
      "     0     0 2.9017e+07    0 2035 2.9731e+07 2.9017e+07  2.40%     -  195s\n",
      "     0     0 2.9021e+07    0 1859 2.9731e+07 2.9021e+07  2.39%     -  204s\n",
      "     0     0 2.9022e+07    0 2076 2.9731e+07 2.9022e+07  2.38%     -  214s\n",
      "     0     0 2.9023e+07    0 2081 2.9731e+07 2.9023e+07  2.38%     -  215s\n",
      "     0     0 2.9023e+07    0 1841 2.9731e+07 2.9023e+07  2.38%     -  217s\n",
      "     0     0 2.9023e+07    0 1842 2.9731e+07 2.9023e+07  2.38%     -  218s\n",
      "     0     0 2.9026e+07    0 2031 2.9731e+07 2.9026e+07  2.37%     -  222s\n",
      "     0     0 2.9031e+07    0 2098 2.9731e+07 2.9031e+07  2.36%     -  228s\n",
      "     0     0 2.9031e+07    0 2098 2.9731e+07 2.9031e+07  2.36%     -  229s\n",
      "     0     0 2.9036e+07    0 2088 2.9731e+07 2.9036e+07  2.34%     -  233s\n",
      "     0     0 2.9036e+07    0 2117 2.9731e+07 2.9036e+07  2.34%     -  239s\n",
      "     0     0 2.9036e+07    0 2124 2.9731e+07 2.9036e+07  2.34%     -  240s\n",
      "     0     0 2.9036e+07    0 2131 2.9731e+07 2.9036e+07  2.34%     -  241s\n",
      "     0     0 2.9036e+07    0 2131 2.9731e+07 2.9036e+07  2.34%     -  242s\n",
      "     0     0 2.9039e+07    0 2181 2.9731e+07 2.9039e+07  2.33%     -  245s\n",
      "     0     0 2.9039e+07    0 2150 2.9731e+07 2.9039e+07  2.33%     -  247s\n",
      "     0     0 2.9039e+07    0 2164 2.9731e+07 2.9039e+07  2.33%     -  249s\n",
      "     0     0 2.9039e+07    0 2164 2.9731e+07 2.9039e+07  2.33%     -  249s\n",
      "     0     0 2.9042e+07    0 2198 2.9731e+07 2.9042e+07  2.32%     -  254s\n",
      "     0     0 2.9042e+07    0 2128 2.9731e+07 2.9042e+07  2.32%     -  258s\n",
      "     0     0 2.9042e+07    0 2158 2.9731e+07 2.9042e+07  2.32%     -  259s\n",
      "     0     0 2.9042e+07    0 2156 2.9731e+07 2.9042e+07  2.32%     -  263s\n",
      "     0     0 2.9043e+07    0 2161 2.9731e+07 2.9043e+07  2.32%     -  269s\n",
      "     0     0 2.9043e+07    0 2163 2.9731e+07 2.9043e+07  2.32%     -  269s\n",
      "     0     0 2.9044e+07    0 2102 2.9731e+07 2.9044e+07  2.31%     -  273s\n",
      "     0     0 2.9044e+07    0 2104 2.9731e+07 2.9044e+07  2.31%     -  276s\n",
      "     0     0 2.9044e+07    0 2105 2.9731e+07 2.9044e+07  2.31%     -  277s\n",
      "     0     0 2.9044e+07    0 2105 2.9731e+07 2.9044e+07  2.31%     -  278s\n",
      "     0     0 2.9044e+07    0 2108 2.9731e+07 2.9044e+07  2.31%     -  279s\n",
      "     0     0 2.9046e+07    0 2187 2.9731e+07 2.9046e+07  2.30%     -  284s\n",
      "     0     0 2.9046e+07    0 2281 2.9731e+07 2.9046e+07  2.30%     -  289s\n",
      "     0     0 2.9047e+07    0 2189 2.9731e+07 2.9047e+07  2.30%     -  290s\n",
      "     0     0 2.9047e+07    0 2285 2.9731e+07 2.9047e+07  2.30%     -  291s\n",
      "     0     0 2.9047e+07    0 2284 2.9731e+07 2.9047e+07  2.30%     -  292s\n",
      "     0     0 2.9048e+07    0 2303 2.9731e+07 2.9048e+07  2.30%     -  297s\n",
      "\n",
      "Cutting planes:\n",
      "  MIR: 77\n",
      "\n",
      "Explored 1 nodes (32938 simplex iterations) in 300.08 seconds (201.22 work units)\n",
      "Thread count was 16 (of 16 available processors)\n",
      "\n",
      "Solution count 7: 2.9731e+07 2.97381e+07 3.02331e+07 ... 3.76734e+08\n",
      "\n",
      "Time limit reached\n",
      "Best objective 2.973096327000e+07, best bound 2.904812239160e+07, gap 2.2967%\n",
      "CPU times: total: 7min\n",
      "Wall time: 5min\n"
     ]
    }
   ],
   "source": [
    "%%time\n",
    "\n",
    "# force Gurobi to use concurrent method (primal simplex, dual simplex, barrier all at the same time!)\n",
    "m.Params.Method = 3\n",
    "\n",
    "m.setParam('MIPGap', 0.02)\n",
    "m.setParam('Timelimit', 300)\n",
    "\n",
    "# solve\n",
    "m.optimize()"
   ]
  },
  {
   "cell_type": "code",
   "execution_count": 17,
   "metadata": {},
   "outputs": [
    {
     "name": "stdout",
     "output_type": "stream",
     "text": [
      "The total yearly cost of the optimal solution is $ 29730963.27\n"
     ]
    }
   ],
   "source": [
    "print(\"The total yearly cost of the optimal solution is $\" , m.objVal)"
   ]
  },
  {
   "cell_type": "code",
   "execution_count": 18,
   "metadata": {},
   "outputs": [
    {
     "name": "stdout",
     "output_type": "stream",
     "text": [
      "In the optimal solution, the number of opened biogas plants are:  28\n"
     ]
    }
   ],
   "source": [
    "# if binary is 1 for fac, fac is open. store in medians\n",
    "medians = [ i for i in fac if y[i].x > 0.5 ]\n",
    "print(\"In the optimal solution, the number of opened biogas plants are: \", len(medians))"
   ]
  },
  {
   "cell_type": "code",
   "execution_count": 19,
   "metadata": {},
   "outputs": [],
   "source": [
    "# for each fac open, retrieve farms that send PAL to fac and the quantity sent\n",
    "k = len(medians)\n",
    "assignedL = []\n",
    "facL = []\n",
    "quantityL = []\n",
    "\n",
    "for p in range(k):\n",
    "    i = medians[p] \n",
    "    for j in pal:\n",
    "        if x[i,j].x > 0.5: \n",
    "            assigned = j\n",
    "            quantity = x[i,j].x\n",
    "            facR = i  \n",
    "            assignedL.append(assigned)\n",
    "            facL.append(facR)\n",
    "            quantityL.append(quantity)"
   ]
  },
  {
   "cell_type": "code",
   "execution_count": 20,
   "metadata": {},
   "outputs": [
    {
     "data": {
      "text/html": [
       "<div>\n",
       "<style scoped>\n",
       "    .dataframe tbody tr th:only-of-type {\n",
       "        vertical-align: middle;\n",
       "    }\n",
       "\n",
       "    .dataframe tbody tr th {\n",
       "        vertical-align: top;\n",
       "    }\n",
       "\n",
       "    .dataframe thead th {\n",
       "        text-align: right;\n",
       "    }\n",
       "</style>\n",
       "<table border=\"1\" class=\"dataframe\">\n",
       "  <thead>\n",
       "    <tr style=\"text-align: right;\">\n",
       "      <th></th>\n",
       "      <th>facility</th>\n",
       "      <th>nodePAL</th>\n",
       "      <th>quantity</th>\n",
       "    </tr>\n",
       "  </thead>\n",
       "  <tbody>\n",
       "    <tr>\n",
       "      <th>0</th>\n",
       "      <td>2683369498</td>\n",
       "      <td>1623183425</td>\n",
       "      <td>20762.0</td>\n",
       "    </tr>\n",
       "    <tr>\n",
       "      <th>1</th>\n",
       "      <td>2683369498</td>\n",
       "      <td>3279845497</td>\n",
       "      <td>968.0</td>\n",
       "    </tr>\n",
       "    <tr>\n",
       "      <th>2</th>\n",
       "      <td>2683369498</td>\n",
       "      <td>5260581064</td>\n",
       "      <td>965.0</td>\n",
       "    </tr>\n",
       "    <tr>\n",
       "      <th>3</th>\n",
       "      <td>2683369498</td>\n",
       "      <td>1088156051</td>\n",
       "      <td>25024.0</td>\n",
       "    </tr>\n",
       "    <tr>\n",
       "      <th>4</th>\n",
       "      <td>2683369498</td>\n",
       "      <td>3279862178</td>\n",
       "      <td>1782.0</td>\n",
       "    </tr>\n",
       "  </tbody>\n",
       "</table>\n",
       "</div>"
      ],
      "text/plain": [
       "     facility     nodePAL  quantity\n",
       "0  2683369498  1623183425   20762.0\n",
       "1  2683369498  3279845497     968.0\n",
       "2  2683369498  5260581064     965.0\n",
       "3  2683369498  1088156051   25024.0\n",
       "4  2683369498  3279862178    1782.0"
      ]
     },
     "execution_count": 20,
     "metadata": {},
     "output_type": "execute_result"
    }
   ],
   "source": [
    "# store in dataframe\n",
    "results = pd.DataFrame(list(zip(facL,assignedL,quantityL)), columns=['facility', 'nodePAL', 'quantity'])\n",
    "results.head()"
   ]
  },
  {
   "cell_type": "code",
   "execution_count": 21,
   "metadata": {},
   "outputs": [],
   "source": [
    "results.to_csv(os.path.join(output_path,'resultsOpti.csv'), index=False)"
   ]
  },
  {
   "cell_type": "code",
   "execution_count": 22,
   "metadata": {},
   "outputs": [],
   "source": [
    "# for each fac open, retrieve farms that send PAL to fac. \n",
    "# k = len(medians)\n",
    "# assignedL = []\n",
    "# for p in range(k):\n",
    "#     i = medians[p] \n",
    "#     assigned = [ j for j in pal if x[i,j].x > 0.5 ]\n",
    "#     assignedL.append(assigned)"
   ]
  }
 ],
 "metadata": {
  "kernelspec": {
   "display_name": "gurobi",
   "language": "python",
   "name": "python3"
  },
  "language_info": {
   "codemirror_mode": {
    "name": "ipython",
    "version": 3
   },
   "file_extension": ".py",
   "mimetype": "text/x-python",
   "name": "python",
   "nbconvert_exporter": "python",
   "pygments_lexer": "ipython3",
   "version": "3.11.0"
  },
  "orig_nbformat": 4
 },
 "nbformat": 4,
 "nbformat_minor": 2
}

{
 "cells": [
  {
   "cell_type": "code",
   "execution_count": 1,
   "id": "5168903e-cf9d-4863-9d28-840deea7cc95",
   "metadata": {},
   "outputs": [],
   "source": [
    "import osmnx as ox\n",
    "import geopandas as gpd\n",
    "import networkx as nx\n",
    "import pandas as pd\n",
    "import csv"
   ]
  },
  {
   "cell_type": "code",
   "execution_count": 2,
   "id": "f17d80d1-a65b-4329-bd72-edc71a4970e9",
   "metadata": {
    "tags": []
   },
   "outputs": [],
   "source": [
    "with open(r'C:\\Users\\isaldiviagonzatti\\Downloads\\gitFiles/MScThesisCode/FLP/output/nearestNodePAL.csv', newline='') as f:\n",
    "    reader = csv.reader(f)\n",
    "    palFields = list(reader)\n",
    "\n",
    "origs = list(set(palFields[0]))"
   ]
  },
  {
   "cell_type": "code",
   "execution_count": 3,
   "id": "cbe5b4fe-3c71-41b1-bde4-456c62c5675a",
   "metadata": {},
   "outputs": [],
   "source": [
    "for i in range(0, len(origs)):\n",
    "    origs[i] = int(origs[i])"
   ]
  },
  {
   "cell_type": "code",
   "execution_count": 4,
   "id": "7c9baa4e-5130-49a7-8aa1-8fce97855c36",
   "metadata": {},
   "outputs": [],
   "source": [
    "with open(r'C:\\Users\\isaldiviagonzatti\\Downloads\\gitFiles/MScThesisCode/FLP/output/canNetwork.csv', newline='') as f:\n",
    "    reader = csv.reader(f)\n",
    "    candidates = list(reader)\n",
    "\n",
    "dests = list(set(candidates[0]))"
   ]
  },
  {
   "cell_type": "code",
   "execution_count": 5,
   "id": "9ec4deba-b6a6-4091-94a9-f2132a3f06cb",
   "metadata": {},
   "outputs": [],
   "source": [
    "for i in range(0, len(dests)):\n",
    "    dests[i] = int(dests[i])"
   ]
  },
  {
   "cell_type": "code",
   "execution_count": 6,
   "id": "edd0c1f0-5d9b-435f-94be-f827991392a9",
   "metadata": {},
   "outputs": [],
   "source": [
    "origs = pd.DataFrame(origs, columns=['origs'])\n",
    "dests = pd.DataFrame(dests, columns=['dests'])"
   ]
  },
  {
   "cell_type": "code",
   "execution_count": 8,
   "id": "8d54e52e",
   "metadata": {},
   "outputs": [
    {
     "data": {
      "text/html": [
       "<div>\n",
       "<style scoped>\n",
       "    .dataframe tbody tr th:only-of-type {\n",
       "        vertical-align: middle;\n",
       "    }\n",
       "\n",
       "    .dataframe tbody tr th {\n",
       "        vertical-align: top;\n",
       "    }\n",
       "\n",
       "    .dataframe thead th {\n",
       "        text-align: right;\n",
       "    }\n",
       "</style>\n",
       "<table border=\"1\" class=\"dataframe\">\n",
       "  <thead>\n",
       "    <tr style=\"text-align: right;\">\n",
       "      <th></th>\n",
       "      <th>dests</th>\n",
       "    </tr>\n",
       "  </thead>\n",
       "  <tbody>\n",
       "    <tr>\n",
       "      <th>0</th>\n",
       "      <td>5266131897</td>\n",
       "    </tr>\n",
       "    <tr>\n",
       "      <th>1</th>\n",
       "      <td>5887755359</td>\n",
       "    </tr>\n",
       "    <tr>\n",
       "      <th>2</th>\n",
       "      <td>3677820110</td>\n",
       "    </tr>\n",
       "    <tr>\n",
       "      <th>3</th>\n",
       "      <td>5430146018</td>\n",
       "    </tr>\n",
       "    <tr>\n",
       "      <th>4</th>\n",
       "      <td>6028452163</td>\n",
       "    </tr>\n",
       "    <tr>\n",
       "      <th>...</th>\n",
       "      <td>...</td>\n",
       "    </tr>\n",
       "    <tr>\n",
       "      <th>480</th>\n",
       "      <td>4840807563</td>\n",
       "    </tr>\n",
       "    <tr>\n",
       "      <th>481</th>\n",
       "      <td>5187510896</td>\n",
       "    </tr>\n",
       "    <tr>\n",
       "      <th>482</th>\n",
       "      <td>5029857026</td>\n",
       "    </tr>\n",
       "    <tr>\n",
       "      <th>483</th>\n",
       "      <td>1835726430</td>\n",
       "    </tr>\n",
       "    <tr>\n",
       "      <th>484</th>\n",
       "      <td>3940146605</td>\n",
       "    </tr>\n",
       "  </tbody>\n",
       "</table>\n",
       "<p>485 rows × 1 columns</p>\n",
       "</div>"
      ],
      "text/plain": [
       "          dests\n",
       "0    5266131897\n",
       "1    5887755359\n",
       "2    3677820110\n",
       "3    5430146018\n",
       "4    6028452163\n",
       "..          ...\n",
       "480  4840807563\n",
       "481  5187510896\n",
       "482  5029857026\n",
       "483  1835726430\n",
       "484  3940146605\n",
       "\n",
       "[485 rows x 1 columns]"
      ]
     },
     "execution_count": 8,
     "metadata": {},
     "output_type": "execute_result"
    }
   ],
   "source": [
    "dests"
   ]
  },
  {
   "cell_type": "markdown",
   "id": "688fb316-41c1-4d5e-8dba-53301f8dbf44",
   "metadata": {},
   "source": [
    "#### Create a dataframe with all combinations of origin-candidates"
   ]
  },
  {
   "cell_type": "code",
   "execution_count": 9,
   "id": "d247e231-e429-40ce-b09f-cda05691885d",
   "metadata": {},
   "outputs": [
    {
     "name": "stdout",
     "output_type": "stream",
     "text": [
      "We have 565510 paths\n"
     ]
    }
   ],
   "source": [
    "matrix = origs.merge(dests, how='cross')\n",
    "print('We have ' + str(len(matrix)) + ' paths')"
   ]
  },
  {
   "cell_type": "code",
   "execution_count": 10,
   "id": "a7f83b08-d187-46e7-bef3-67d37ba0e562",
   "metadata": {},
   "outputs": [
    {
     "data": {
      "text/plain": [
       "origs    int64\n",
       "dests    int64\n",
       "dtype: object"
      ]
     },
     "execution_count": 10,
     "metadata": {},
     "output_type": "execute_result"
    }
   ],
   "source": [
    "matrix.dtypes"
   ]
  },
  {
   "cell_type": "code",
   "execution_count": 17,
   "id": "e8676577-90e3-447d-b470-4b20743f9d46",
   "metadata": {},
   "outputs": [
    {
     "data": {
      "text/html": [
       "<div>\n",
       "<style scoped>\n",
       "    .dataframe tbody tr th:only-of-type {\n",
       "        vertical-align: middle;\n",
       "    }\n",
       "\n",
       "    .dataframe tbody tr th {\n",
       "        vertical-align: top;\n",
       "    }\n",
       "\n",
       "    .dataframe thead th {\n",
       "        text-align: right;\n",
       "    }\n",
       "</style>\n",
       "<table border=\"1\" class=\"dataframe\">\n",
       "  <thead>\n",
       "    <tr style=\"text-align: right;\">\n",
       "      <th></th>\n",
       "      <th>origs</th>\n",
       "      <th>dests</th>\n",
       "    </tr>\n",
       "  </thead>\n",
       "  <tbody>\n",
       "    <tr>\n",
       "      <th>0</th>\n",
       "      <td>5969612910</td>\n",
       "      <td>184096616</td>\n",
       "    </tr>\n",
       "    <tr>\n",
       "      <th>1</th>\n",
       "      <td>5969612910</td>\n",
       "      <td>5199178045</td>\n",
       "    </tr>\n",
       "    <tr>\n",
       "      <th>2</th>\n",
       "      <td>5969612910</td>\n",
       "      <td>5133301205</td>\n",
       "    </tr>\n",
       "    <tr>\n",
       "      <th>3</th>\n",
       "      <td>5969612910</td>\n",
       "      <td>2323332089</td>\n",
       "    </tr>\n",
       "    <tr>\n",
       "      <th>4</th>\n",
       "      <td>5969612910</td>\n",
       "      <td>5887755321</td>\n",
       "    </tr>\n",
       "    <tr>\n",
       "      <th>...</th>\n",
       "      <td>...</td>\n",
       "      <td>...</td>\n",
       "    </tr>\n",
       "    <tr>\n",
       "      <th>995</th>\n",
       "      <td>3273998410</td>\n",
       "      <td>3940146605</td>\n",
       "    </tr>\n",
       "    <tr>\n",
       "      <th>996</th>\n",
       "      <td>3273998410</td>\n",
       "      <td>1269591543</td>\n",
       "    </tr>\n",
       "    <tr>\n",
       "      <th>997</th>\n",
       "      <td>3273998410</td>\n",
       "      <td>2922161517</td>\n",
       "    </tr>\n",
       "    <tr>\n",
       "      <th>998</th>\n",
       "      <td>3273998410</td>\n",
       "      <td>9241311391</td>\n",
       "    </tr>\n",
       "    <tr>\n",
       "      <th>999</th>\n",
       "      <td>3273998410</td>\n",
       "      <td>3940029455</td>\n",
       "    </tr>\n",
       "  </tbody>\n",
       "</table>\n",
       "<p>1000 rows × 2 columns</p>\n",
       "</div>"
      ],
      "text/plain": [
       "          origs       dests\n",
       "0    5969612910   184096616\n",
       "1    5969612910  5199178045\n",
       "2    5969612910  5133301205\n",
       "3    5969612910  2323332089\n",
       "4    5969612910  5887755321\n",
       "..          ...         ...\n",
       "995  3273998410  3940146605\n",
       "996  3273998410  1269591543\n",
       "997  3273998410  2922161517\n",
       "998  3273998410  9241311391\n",
       "999  3273998410  3940029455\n",
       "\n",
       "[1000 rows x 2 columns]"
      ]
     },
     "execution_count": 17,
     "metadata": {},
     "output_type": "execute_result"
    }
   ],
   "source": [
    "sampl_df = matrix.head(1000).copy()\n",
    "sampl_df"
   ]
  },
  {
   "cell_type": "code",
   "execution_count": 12,
   "id": "ded82374-2c46-442d-91ec-9fa9b319e0ae",
   "metadata": {},
   "outputs": [],
   "source": [
    "# create network from OSMnx\n",
    "G = ox.graph.graph_from_bbox(11.2, 10.00, -83, -85.2, network_type = 'drive_service')\n",
    "Gs = ox.utils_graph.get_largest_component(G, strongly=True) #for strongly connected network"
   ]
  },
  {
   "cell_type": "code",
   "execution_count": 18,
   "id": "b86f8ce2-fce0-4ea7-9e92-892d8d6958a3",
   "metadata": {},
   "outputs": [
    {
     "name": "stdout",
     "output_type": "stream",
     "text": [
      "CPU times: total: 4min 33s\n",
      "Wall time: 5min 26s\n"
     ]
    }
   ],
   "source": [
    "%%time\n",
    "# try to get nearest node with networkx\n",
    "def short_path_length(row):\n",
    "    return nx.shortest_path_length(Gs, row['origs'], row['dests'], weight='length')\n",
    "sampl_df['path_length'] = sampl_df.apply(short_path_length, axis=1)"
   ]
  },
  {
   "cell_type": "code",
   "execution_count": 20,
   "id": "5dc35f07-b5f8-4233-a172-b6a8eb3bfc6b",
   "metadata": {},
   "outputs": [
    {
     "name": "stdout",
     "output_type": "stream",
     "text": [
      "CPU times: total: 4min 17s\n",
      "Wall time: 4min 42s\n"
     ]
    }
   ],
   "source": [
    "%%time\n",
    "# try with OSMnx\n",
    "sampl_df['path_lengthOX'] = ox.shortest_path(Gs, sampl_df['origs'], sampl_df['dests'], weight='length')"
   ]
  },
  {
   "cell_type": "code",
   "execution_count": 19,
   "id": "a86d1bb4-42c1-4387-babe-211ff7a281b5",
   "metadata": {},
   "outputs": [
    {
     "data": {
      "text/html": [
       "<div>\n",
       "<style scoped>\n",
       "    .dataframe tbody tr th:only-of-type {\n",
       "        vertical-align: middle;\n",
       "    }\n",
       "\n",
       "    .dataframe tbody tr th {\n",
       "        vertical-align: top;\n",
       "    }\n",
       "\n",
       "    .dataframe thead th {\n",
       "        text-align: right;\n",
       "    }\n",
       "</style>\n",
       "<table border=\"1\" class=\"dataframe\">\n",
       "  <thead>\n",
       "    <tr style=\"text-align: right;\">\n",
       "      <th></th>\n",
       "      <th>origs</th>\n",
       "      <th>dests</th>\n",
       "      <th>path_length</th>\n",
       "    </tr>\n",
       "  </thead>\n",
       "  <tbody>\n",
       "    <tr>\n",
       "      <th>0</th>\n",
       "      <td>5969612910</td>\n",
       "      <td>184096616</td>\n",
       "      <td>39695.028</td>\n",
       "    </tr>\n",
       "    <tr>\n",
       "      <th>1</th>\n",
       "      <td>5969612910</td>\n",
       "      <td>5199178045</td>\n",
       "      <td>48125.214</td>\n",
       "    </tr>\n",
       "    <tr>\n",
       "      <th>2</th>\n",
       "      <td>5969612910</td>\n",
       "      <td>5133301205</td>\n",
       "      <td>75554.655</td>\n",
       "    </tr>\n",
       "    <tr>\n",
       "      <th>3</th>\n",
       "      <td>5969612910</td>\n",
       "      <td>2323332089</td>\n",
       "      <td>159362.941</td>\n",
       "    </tr>\n",
       "    <tr>\n",
       "      <th>4</th>\n",
       "      <td>5969612910</td>\n",
       "      <td>5887755321</td>\n",
       "      <td>81660.828</td>\n",
       "    </tr>\n",
       "    <tr>\n",
       "      <th>...</th>\n",
       "      <td>...</td>\n",
       "      <td>...</td>\n",
       "      <td>...</td>\n",
       "    </tr>\n",
       "    <tr>\n",
       "      <th>995</th>\n",
       "      <td>3273998410</td>\n",
       "      <td>3940146605</td>\n",
       "      <td>88938.535</td>\n",
       "    </tr>\n",
       "    <tr>\n",
       "      <th>996</th>\n",
       "      <td>3273998410</td>\n",
       "      <td>1269591543</td>\n",
       "      <td>83789.749</td>\n",
       "    </tr>\n",
       "    <tr>\n",
       "      <th>997</th>\n",
       "      <td>3273998410</td>\n",
       "      <td>2922161517</td>\n",
       "      <td>135599.638</td>\n",
       "    </tr>\n",
       "    <tr>\n",
       "      <th>998</th>\n",
       "      <td>3273998410</td>\n",
       "      <td>9241311391</td>\n",
       "      <td>73693.783</td>\n",
       "    </tr>\n",
       "    <tr>\n",
       "      <th>999</th>\n",
       "      <td>3273998410</td>\n",
       "      <td>3940029455</td>\n",
       "      <td>166655.689</td>\n",
       "    </tr>\n",
       "  </tbody>\n",
       "</table>\n",
       "<p>1000 rows × 3 columns</p>\n",
       "</div>"
      ],
      "text/plain": [
       "          origs       dests  path_length\n",
       "0    5969612910   184096616    39695.028\n",
       "1    5969612910  5199178045    48125.214\n",
       "2    5969612910  5133301205    75554.655\n",
       "3    5969612910  2323332089   159362.941\n",
       "4    5969612910  5887755321    81660.828\n",
       "..          ...         ...          ...\n",
       "995  3273998410  3940146605    88938.535\n",
       "996  3273998410  1269591543    83789.749\n",
       "997  3273998410  2922161517   135599.638\n",
       "998  3273998410  9241311391    73693.783\n",
       "999  3273998410  3940029455   166655.689\n",
       "\n",
       "[1000 rows x 3 columns]"
      ]
     },
     "execution_count": 19,
     "metadata": {},
     "output_type": "execute_result"
    }
   ],
   "source": [
    "sampl_df"
   ]
  },
  {
   "cell_type": "code",
   "execution_count": null,
   "id": "4b9d43df-ecbc-4420-b409-b7d1f5659f30",
   "metadata": {},
   "outputs": [],
   "source": []
  }
 ],
 "metadata": {
  "kernelspec": {
   "display_name": "geoenv",
   "language": "python",
   "name": "python3"
  },
  "language_info": {
   "codemirror_mode": {
    "name": "ipython",
    "version": 3
   },
   "file_extension": ".py",
   "mimetype": "text/x-python",
   "name": "python",
   "nbconvert_exporter": "python",
   "pygments_lexer": "ipython3",
   "version": "3.11.0"
  }
 },
 "nbformat": 4,
 "nbformat_minor": 5
}

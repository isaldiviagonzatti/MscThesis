{
 "cells": [
  {
   "attachments": {},
   "cell_type": "markdown",
   "metadata": {},
   "source": [
    "### Merge all data to use in optimisation "
   ]
  },
  {
   "cell_type": "code",
   "execution_count": 1,
   "metadata": {},
   "outputs": [],
   "source": [
    "import matplotlib.pyplot as plt\n",
    "import pandas as pd\n",
    "import numpy as np\n",
    "import geopandas as gpd\n",
    "import os"
   ]
  },
  {
   "cell_type": "code",
   "execution_count": 2,
   "metadata": {},
   "outputs": [
    {
     "data": {
      "text/plain": [
       "'c:\\\\Users\\\\isaldiviagonzatti\\\\Downloads\\\\gitFiles\\\\MScThesisCode\\\\FLP'"
      ]
     },
     "execution_count": 2,
     "metadata": {},
     "output_type": "execute_result"
    }
   ],
   "source": [
    "# define paths\n",
    "data_path = 'data'\n",
    "output_path = 'output'\n",
    "\n",
    "# set parent folder as working directory\n",
    "os.chdir('..')\n",
    "os.getcwd()"
   ]
  },
  {
   "cell_type": "code",
   "execution_count": 3,
   "metadata": {},
   "outputs": [],
   "source": [
    "# load distance matrix, orig w/ additional distance, pal data (qty, geodata)\n",
    "distM = pd.read_csv(os.path.join(output_path, \"distMatrix.csv\"), index_col=0)\n",
    "orig =  pd.read_csv(os.path.join(output_path, \"nearestnodePAL.csv\"), header=None).T\n",
    "pal = os.path.join(output_path, \"palNorth.gpkg\")"
   ]
  },
  {
   "cell_type": "code",
   "execution_count": 4,
   "metadata": {},
   "outputs": [],
   "source": [
    "# rename and transform orig data\n",
    "orig = orig.rename(columns={0: 'osmidOrig', 1: 'distance'})\n",
    "orig.osmidOrig = orig.osmidOrig.astype(np.int64)  "
   ]
  },
  {
   "cell_type": "code",
   "execution_count": 5,
   "metadata": {},
   "outputs": [],
   "source": [
    "# read gdp file\n",
    "palPoint = gpd.read_file(pal) \n",
    "# define lon, lat points and osmid from orig \n",
    "# Note that here we assume (and check) that osmid column follows same order as provided when\n",
    "# calculating nearest node. There must be a way of getting the geodata for which osmIDs were generated\n",
    "# but we did not look into it\n",
    "palPoint['xlon']=palPoint['geometry'].x\n",
    "palPoint['ylat']=palPoint['geometry'].y\n",
    "palPoint[['osmidOrig', 'fieldDist']] = orig[['osmidOrig', 'distance']]\n",
    "\n",
    "### We hadn't divided the PAL over 2 to calculate yearly production\n",
    "palPoint['leavesTonne'] = palPoint['leavesTonne']/2"
   ]
  },
  {
   "cell_type": "code",
   "execution_count": 6,
   "metadata": {},
   "outputs": [],
   "source": [
    "# aggregate PAL data based on nodes \n",
    "palAgg = pd.DataFrame(palPoint.groupby('osmidOrig', as_index=False).agg(\n",
    "                                            osmidOrig=('osmidOrig','mean'), \n",
    "                                            areaHa= ('areaHa','sum'),\n",
    "                                            leavesTonne=('leavesTonne','sum'),\n",
    "                                            distance = ('fieldDist', 'sum')\n",
    "                                        )\n",
    "                     )\n",
    "\n",
    "palAgg.osmidOrig = palAgg.osmidOrig.astype(np.int64)  "
   ]
  },
  {
   "cell_type": "code",
   "execution_count": 7,
   "metadata": {},
   "outputs": [],
   "source": [
    "# merge distances with PAL data\n",
    "optiData = distM.merge(palAgg, left_on='origs', right_on='osmidOrig')"
   ]
  },
  {
   "cell_type": "code",
   "execution_count": 8,
   "metadata": {},
   "outputs": [],
   "source": [
    "# calculate total distance (road + field centroids to node) and cost per trip\n",
    "optiData['totalDist'] = (optiData.path_length + optiData.distance)/1000"
   ]
  },
  {
   "cell_type": "code",
   "execution_count": 9,
   "metadata": {},
   "outputs": [
    {
     "data": {
      "text/html": [
       "<div>\n",
       "<style scoped>\n",
       "    .dataframe tbody tr th:only-of-type {\n",
       "        vertical-align: middle;\n",
       "    }\n",
       "\n",
       "    .dataframe tbody tr th {\n",
       "        vertical-align: top;\n",
       "    }\n",
       "\n",
       "    .dataframe thead th {\n",
       "        text-align: right;\n",
       "    }\n",
       "</style>\n",
       "<table border=\"1\" class=\"dataframe\">\n",
       "  <thead>\n",
       "    <tr style=\"text-align: right;\">\n",
       "      <th></th>\n",
       "      <th>origs</th>\n",
       "      <th>dests</th>\n",
       "      <th>path_length</th>\n",
       "      <th>osmidOrig</th>\n",
       "      <th>areaHa</th>\n",
       "      <th>leavesTonne</th>\n",
       "      <th>distance</th>\n",
       "      <th>totalDist</th>\n",
       "    </tr>\n",
       "  </thead>\n",
       "  <tbody>\n",
       "    <tr>\n",
       "      <th>0</th>\n",
       "      <td>3610149725</td>\n",
       "      <td>2656380182</td>\n",
       "      <td>157664.026</td>\n",
       "      <td>3610149725</td>\n",
       "      <td>15.49063</td>\n",
       "      <td>1270.231645</td>\n",
       "      <td>319.129599</td>\n",
       "      <td>157.983156</td>\n",
       "    </tr>\n",
       "    <tr>\n",
       "      <th>1</th>\n",
       "      <td>3610149725</td>\n",
       "      <td>5294901777</td>\n",
       "      <td>83956.035</td>\n",
       "      <td>3610149725</td>\n",
       "      <td>15.49063</td>\n",
       "      <td>1270.231645</td>\n",
       "      <td>319.129599</td>\n",
       "      <td>84.275165</td>\n",
       "    </tr>\n",
       "    <tr>\n",
       "      <th>2</th>\n",
       "      <td>3610149725</td>\n",
       "      <td>1321571077</td>\n",
       "      <td>201954.500</td>\n",
       "      <td>3610149725</td>\n",
       "      <td>15.49063</td>\n",
       "      <td>1270.231645</td>\n",
       "      <td>319.129599</td>\n",
       "      <td>202.273630</td>\n",
       "    </tr>\n",
       "    <tr>\n",
       "      <th>3</th>\n",
       "      <td>3610149725</td>\n",
       "      <td>3677820110</td>\n",
       "      <td>75493.804</td>\n",
       "      <td>3610149725</td>\n",
       "      <td>15.49063</td>\n",
       "      <td>1270.231645</td>\n",
       "      <td>319.129599</td>\n",
       "      <td>75.812934</td>\n",
       "    </tr>\n",
       "    <tr>\n",
       "      <th>4</th>\n",
       "      <td>3610149725</td>\n",
       "      <td>3510580697</td>\n",
       "      <td>21814.095</td>\n",
       "      <td>3610149725</td>\n",
       "      <td>15.49063</td>\n",
       "      <td>1270.231645</td>\n",
       "      <td>319.129599</td>\n",
       "      <td>22.133225</td>\n",
       "    </tr>\n",
       "  </tbody>\n",
       "</table>\n",
       "</div>"
      ],
      "text/plain": [
       "        origs       dests  path_length   osmidOrig    areaHa  leavesTonne  \\\n",
       "0  3610149725  2656380182   157664.026  3610149725  15.49063  1270.231645   \n",
       "1  3610149725  5294901777    83956.035  3610149725  15.49063  1270.231645   \n",
       "2  3610149725  1321571077   201954.500  3610149725  15.49063  1270.231645   \n",
       "3  3610149725  3677820110    75493.804  3610149725  15.49063  1270.231645   \n",
       "4  3610149725  3510580697    21814.095  3610149725  15.49063  1270.231645   \n",
       "\n",
       "     distance   totalDist  \n",
       "0  319.129599  157.983156  \n",
       "1  319.129599   84.275165  \n",
       "2  319.129599  202.273630  \n",
       "3  319.129599   75.812934  \n",
       "4  319.129599   22.133225  "
      ]
     },
     "execution_count": 9,
     "metadata": {},
     "output_type": "execute_result"
    }
   ],
   "source": [
    "#save data and look at result\n",
    "optiData.to_csv(os.path.join(output_path, \"optiData.csv\"))\n",
    "optiData.head()"
   ]
  }
 ],
 "metadata": {
  "kernelspec": {
   "display_name": "gurobi",
   "language": "python",
   "name": "python3"
  },
  "language_info": {
   "codemirror_mode": {
    "name": "ipython",
    "version": 3
   },
   "file_extension": ".py",
   "mimetype": "text/x-python",
   "name": "python",
   "nbconvert_exporter": "python",
   "pygments_lexer": "ipython3",
   "version": "3.9.13"
  },
  "orig_nbformat": 4
 },
 "nbformat": 4,
 "nbformat_minor": 2
}
